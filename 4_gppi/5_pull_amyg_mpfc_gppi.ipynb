{
 "cells": [
  {
   "cell_type": "markdown",
   "metadata": {},
   "source": [
    "# Pull Amygdala-mPFC gPPI Estimates\n",
    "\n",
    "This script  pull gPPI betas & t-statistics averaged over 4 mPFC ROIs \n",
    "\n",
    "- Last edited March 2020\n",
    "- Paul A. Bloom"
   ]
  },
  {
   "cell_type": "code",
   "execution_count": 1,
   "metadata": {},
   "outputs": [],
   "source": [
    "import nilearn\n",
    "from nilearn import image\n",
    "from nilearn import plotting\n",
    "import matplotlib.pyplot as plt\n",
    "import os\n",
    "import pandas as pd\n",
    "import numpy as np\n",
    "import glob\n",
    "import re"
   ]
  },
  {
   "cell_type": "markdown",
   "metadata": {},
   "source": [
    "# Define subject frame"
   ]
  },
  {
   "cell_type": "code",
   "execution_count": 2,
   "metadata": {},
   "outputs": [],
   "source": [
    "# data frame of all runs in feat\n",
    "subFrame = pd.read_csv('../QA/allEmotionsFeatComplete.csv')\n",
    "subFrame = subFrame[subFrame['runType'] == 'fear']"
   ]
  },
  {
   "cell_type": "markdown",
   "metadata": {},
   "source": [
    "## Determine here which roi masks to pull estimates for, then flatten them"
   ]
  },
  {
   "cell_type": "code",
   "execution_count": 16,
   "metadata": {},
   "outputs": [
    {
     "data": {
      "text/plain": [
       "['../Structural/mni2mmSpace/mPFC_sphere_5mm_mni2mm.nii.gz',\n",
       " '../Structural/mni2mmSpace/mPFC_sphere_5mm_anterior_down_mni2mm.nii.gz',\n",
       " '../Structural/mni2mmSpace/vmpfc_trimmed_prob.5_mni2mm.nii.gz',\n",
       " '../Structural/mni2mmSpace/mPFC_sphere_5mm_anterior_mni2mm.nii.gz']"
      ]
     },
     "execution_count": 16,
     "metadata": {},
     "output_type": "execute_result"
    }
   ],
   "source": [
    "maskPaths = glob.glob('../Structural/mni2mmSpace/*.nii.gz')\n",
    "\n",
    "maskPaths = [maskPaths[9], maskPaths[3], maskPaths[4], maskPaths[8]]\n",
    "masks = ['none'] * len(maskPaths)\n",
    "for counter, maskPath in enumerate(maskPaths):\n",
    "    masks[counter] = image.load_img(maskPath)\n",
    "    masks[counter] = masks[counter].get_fdata()\n",
    "    masks[counter] = masks[counter].flatten()\n",
    "\n",
    "maskPaths"
   ]
  },
  {
   "cell_type": "markdown",
   "metadata": {},
   "source": [
    "# Define a function to get PPI for a certain ROI"
   ]
  },
  {
   "cell_type": "code",
   "execution_count": 18,
   "metadata": {},
   "outputs": [],
   "source": [
    "def getPpiRoi(subject, roiMask, runType, ppiDir, copeNum, imageType):\n",
    "\n",
    "    # Pull for the emotional face and neutral face cope for each run\n",
    "    statImg = image.load_img('/danl/SB/Investigators/PaulCompileTGNG/data/%s/model/%s/24motion.feat/%s/reg_standard/stats/%s%s.nii.gz'%(subject, runType, ppiDir, imageType, copeNum))\n",
    "    statImg = statImg.get_fdata()\n",
    "    statImg = statImg.flatten()\n",
    "    \n",
    "    # Mask the cope images and filter based on mask == 1, then take means      \n",
    "    maskedStatImg= statImg[roiMask == 1]\n",
    "    meanStatImg = np.mean(maskedStatImg)\n",
    "    \n",
    "    # return value\n",
    "    return(meanStatImg)"
   ]
  },
  {
   "cell_type": "markdown",
   "metadata": {},
   "source": [
    "# Pull gPPI estimates with deconvolution\n",
    "\n",
    "For 4 contrasts,and get both t-stats and beta estimates (copes)\n",
    "* PHYSIO regressor\n",
    "* emotion > baseline ppi\n",
    "* neutral > baseline ppi\n",
    "* emotion > neutral ppi"
   ]
  },
  {
   "cell_type": "code",
   "execution_count": 20,
   "metadata": {},
   "outputs": [],
   "source": [
    "ppiDir = 'gppi_deconvolution_seed_harvardoxfordsubcortical_bilateralamyg.feat'\n",
    "\n",
    "for index, row in subFrame.iterrows():\n",
    "    for counter, roiMask in enumerate(masks):\n",
    "        maskPath = maskPaths[counter]\n",
    "        maskPathSplit = maskPath.split('/')\n",
    "        roiName = maskPathSplit[3][:-14]\n",
    "        if(os.path.isfile('/danl/SB/Investigators/PaulCompileTGNG/data/%s/model/%s/24motion.feat/%s/reg_standard/stats/cope1.nii.gz'%(row['name'], row['runType'], ppiDir))):\n",
    "            subFrame.loc[index, 'phys_%s_cope'%(roiName)] = getPpiRoi(row['name'],roiMask,row['runType'], ppiDir, 8, 'cope')\n",
    "            subFrame.loc[index, 'emotPpi_%s_cope'%(roiName)] = getPpiRoi(row['name'],roiMask,row['runType'], ppiDir, 9, 'cope')\n",
    "            subFrame.loc[index, 'neutralPpi_%s_cope'%(roiName)] = getPpiRoi(row['name'],roiMask,row['runType'], ppiDir, 10, 'cope')\n",
    "            subFrame.loc[index, 'emotMinusNeutralPpi_%s_cope'%(roiName)] = getPpiRoi(row['name'],roiMask,row['runType'], ppiDir, 11, 'cope')\n",
    "            subFrame.loc[index, 'phys_%s_tstat'%(roiName)] = getPpiRoi(row['name'],roiMask,row['runType'], ppiDir, 8, 'tstat')\n",
    "            subFrame.loc[index, 'emotPpi_%s_tstat'%(roiName)] = getPpiRoi(row['name'],roiMask,row['runType'], ppiDir, 9, 'tstat')\n",
    "            subFrame.loc[index, 'neutralPpi_%s_tstat'%(roiName)] = getPpiRoi(row['name'],roiMask,row['runType'], ppiDir, 10, 'tstat')\n",
    "            subFrame.loc[index, 'emotMinusNeutralPpi_%s_tstat'%(roiName)] = getPpiRoi(row['name'],roiMask,row['runType'], ppiDir, 11, 'tstat')"
   ]
  },
  {
   "cell_type": "markdown",
   "metadata": {},
   "source": [
    "## Export to CSV"
   ]
  },
  {
   "cell_type": "code",
   "execution_count": 6,
   "metadata": {},
   "outputs": [],
   "source": [
    "csvname = 'bilateral_amyg_' + ppiDir + '_ppi_roi.csv'\n",
    "subFrame.to_csv(csvname)"
   ]
  },
  {
   "cell_type": "markdown",
   "metadata": {},
   "source": [
    "# Pull gPPI estimates without deconvolution"
   ]
  },
  {
   "cell_type": "code",
   "execution_count": 22,
   "metadata": {},
   "outputs": [],
   "source": [
    "ppiDir = 'gppi_no_deconvolution_seed_harvardoxfordsubcortical_bilateralamyg.feat'\n",
    "\n",
    "for index, row in subFrame.iterrows():\n",
    "    for counter, roiMask in enumerate(masks):\n",
    "        maskPath = maskPaths[counter]\n",
    "        maskPathSplit = maskPath.split('/')\n",
    "        roiName = maskPathSplit[3][:-14]\n",
    "        if(os.path.isfile('/danl/SB/Investigators/PaulCompileTGNG/data/%s/model/%s/24motion.feat/%s/reg_standard/stats/cope1.nii.gz'%(row['name'], row['runType'], ppiDir))):\n",
    "            subFrame.loc[index, 'phys_%s_tstat'%(roiName)] = getPpiRoi(row['name'],roiMask,row['runType'], ppiDir, 8, 'tstat')\n",
    "            subFrame.loc[index, 'emotPpi_%s_tstat'%(roiName)] = getPpiRoi(row['name'],roiMask,row['runType'], ppiDir, 9, 'tstat')\n",
    "            subFrame.loc[index, 'neutralPpi_%s_tstat'%(roiName)] = getPpiRoi(row['name'],roiMask,row['runType'], ppiDir, 10, 'tstat')\n",
    "            subFrame.loc[index, 'emotMinusNeutralPpi_%s_tstat'%(roiName)] = getPpiRoi(row['name'],roiMask,row['runType'], ppiDir, 11, 'tstat')\n",
    "            subFrame.loc[index, 'phys_%s_cope'%(roiName)] = getPpiRoi(row['name'],roiMask,row['runType'], ppiDir, 8, 'cope')\n",
    "            subFrame.loc[index, 'emotPpi_%s_cope'%(roiName)] = getPpiRoi(row['name'],roiMask,row['runType'], ppiDir, 9, 'cope')\n",
    "            subFrame.loc[index, 'neutralPpi_%s_cope'%(roiName)] = getPpiRoi(row['name'],roiMask,row['runType'], ppiDir, 10, 'cope')\n",
    "            subFrame.loc[index, 'emotMinusNeutralPpi_%s_cope'%(roiName)] = getPpiRoi(row['name'],roiMask,row['runType'], ppiDir, 11, 'cope')"
   ]
  },
  {
   "cell_type": "markdown",
   "metadata": {},
   "source": [
    "## Export to CSV"
   ]
  },
  {
   "cell_type": "code",
   "execution_count": 7,
   "metadata": {},
   "outputs": [],
   "source": [
    "csvname = 'bilateral_amyg_' + ppiDir + '_ppi_roi.csv'\n",
    "print(csvname)\n",
    "subFrame.to_csv(csvname)"
   ]
  }
 ],
 "metadata": {
  "kernelspec": {
   "display_name": "Python 3",
   "language": "python",
   "name": "python3"
  },
  "language_info": {
   "codemirror_mode": {
    "name": "ipython",
    "version": 3
   },
   "file_extension": ".py",
   "mimetype": "text/x-python",
   "name": "python",
   "nbconvert_exporter": "python",
   "pygments_lexer": "ipython3",
   "version": "3.7.4"
  }
 },
 "nbformat": 4,
 "nbformat_minor": 4
}
