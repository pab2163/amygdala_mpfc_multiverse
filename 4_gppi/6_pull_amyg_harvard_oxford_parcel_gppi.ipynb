{
 "cells": [
  {
   "cell_type": "markdown",
   "metadata": {},
   "source": [
    "# Pull PPI ROIs\n",
    "\n",
    "This script should pull PPI betas averaged over ROIs "
   ]
  },
  {
   "cell_type": "code",
   "execution_count": 39,
   "metadata": {},
   "outputs": [],
   "source": [
    "import nilearn\n",
    "from nilearn import image\n",
    "from nilearn import plotting\n",
    "import matplotlib.pyplot as plt\n",
    "import os\n",
    "import pandas as pd\n",
    "import numpy as np\n",
    "import glob\n",
    "import re"
   ]
  },
  {
   "cell_type": "markdown",
   "metadata": {},
   "source": [
    "Determine here which roi masks to pull betas for\n",
    "\n",
    "Then flatten them"
   ]
  },
  {
   "cell_type": "code",
   "execution_count": 41,
   "metadata": {},
   "outputs": [
    {
     "data": {
      "text/plain": [
       "['../Parcellations/harvardOx/harvardox_cortical_22.nii.gz',\n",
       " '../Parcellations/harvardOx/harvardox_cortical_39.nii.gz',\n",
       " '../Parcellations/harvardOx/harvardox_cortical_7.nii.gz',\n",
       " '../Parcellations/harvardOx/harvardox_cortical_34.nii.gz',\n",
       " '../Parcellations/harvardOx/harvardox_cortical_43.nii.gz',\n",
       " '../Parcellations/harvardOx/harvardox_cortical_18.nii.gz',\n",
       " '../Parcellations/harvardOx/harvardox_cortical_15.nii.gz',\n",
       " '../Parcellations/harvardOx/harvardox_subcortical_10.nii.gz',\n",
       " '../Parcellations/harvardOx/harvardox_cortical_20.nii.gz',\n",
       " '../Parcellations/harvardOx/harvardox_cortical_8.nii.gz',\n",
       " '../Parcellations/harvardOx/harvardox_cortical_36.nii.gz',\n",
       " '../Parcellations/harvardOx/harvardox_cortical_5.nii.gz',\n",
       " '../Parcellations/harvardOx/harvardox_subcortical_2.nii.gz',\n",
       " '../Parcellations/harvardOx/harvardox_cortical_41.nii.gz',\n",
       " '../Parcellations/harvardOx/harvardox_cortical_17.nii.gz',\n",
       " '../Parcellations/harvardOx/harvardox_subcortical_12.nii.gz',\n",
       " '../Parcellations/harvardOx/harvardox_cortical_30.nii.gz',\n",
       " '../Parcellations/harvardOx/harvardox_cortical_3.nii.gz',\n",
       " '../Parcellations/harvardOx/harvardox_subcortical_4.nii.gz',\n",
       " '../Parcellations/harvardOx/harvardox_subcortical_9.nii.gz',\n",
       " '../Parcellations/harvardOx/harvardox_cortical_26.nii.gz',\n",
       " '../Parcellations/harvardOx/harvardox_cortical_11.nii.gz',\n",
       " '../Parcellations/harvardOx/harvardox_subcortical_14.nii.gz',\n",
       " '../Parcellations/harvardOx/harvardox_subcortical_19.nii.gz',\n",
       " '../Parcellations/harvardOx/harvardox_cortical_47.nii.gz',\n",
       " '../Parcellations/harvardOx/harvardox_subcortical_6.nii.gz',\n",
       " '../Parcellations/harvardOx/harvardox_cortical_29.nii.gz',\n",
       " '../Parcellations/harvardOx/harvardox_cortical_1.nii.gz',\n",
       " '../Parcellations/harvardOx/harvardox_cortical_32.nii.gz',\n",
       " '../Parcellations/harvardOx/harvardox_cortical_24.nii.gz',\n",
       " '../Parcellations/harvardOx/harvardox_subcortical_21.nii.gz',\n",
       " '../Parcellations/harvardOx/harvardox_cortical_48.nii.gz',\n",
       " '../Parcellations/harvardOx/harvardox_cortical_13.nii.gz',\n",
       " '../Parcellations/harvardOx/harvardox_subcortical_16.nii.gz',\n",
       " '../Parcellations/harvardOx/harvardox_cortical_45.nii.gz',\n",
       " '../Parcellations/harvardOx/harvardox_subcortical_18.nii.gz',\n",
       " '../Parcellations/harvardOx/harvardox_cortical_46.nii.gz',\n",
       " '../Parcellations/harvardOx/harvardox_subcortical_15.nii.gz',\n",
       " '../Parcellations/harvardOx/harvardox_cortical_10.nii.gz',\n",
       " '../Parcellations/harvardOx/harvardox_cortical_27.nii.gz',\n",
       " '../Parcellations/harvardOx/harvardox_subcortical_8.nii.gz',\n",
       " '../Parcellations/harvardOx/harvardox_cortical_31.nii.gz',\n",
       " '../Parcellations/harvardOx/harvardox_subcortical_5.nii.gz',\n",
       " '../Parcellations/harvardOx/harvardox_cortical_2.nii.gz',\n",
       " '../Parcellations/harvardOx/harvardox_cortical_44.nii.gz',\n",
       " '../Parcellations/harvardOx/harvardox_subcortical_17.nii.gz',\n",
       " '../Parcellations/harvardOx/harvardox_cortical_12.nii.gz',\n",
       " '../Parcellations/harvardOx/harvardox_subcortical_20.nii.gz',\n",
       " '../Parcellations/harvardOx/harvardox_cortical_25.nii.gz',\n",
       " '../Parcellations/harvardOx/harvardox_cortical_28.nii.gz',\n",
       " '../Parcellations/harvardOx/harvardox_subcortical_7.nii.gz',\n",
       " '../Parcellations/harvardOx/harvardox_cortical_33.nii.gz',\n",
       " '../Parcellations/harvardOx/harvardox_subcortical_11.nii.gz',\n",
       " '../Parcellations/harvardOx/harvardox_cortical_14.nii.gz',\n",
       " '../Parcellations/harvardOx/harvardox_cortical_42.nii.gz',\n",
       " '../Parcellations/harvardOx/harvardox_cortical_19.nii.gz',\n",
       " '../Parcellations/harvardOx/harvardox_cortical_6.nii.gz',\n",
       " '../Parcellations/harvardOx/harvardox_subcortical_1.nii.gz',\n",
       " '../Parcellations/harvardOx/harvardox_cortical_35.nii.gz',\n",
       " '../Parcellations/harvardOx/harvardox_cortical_23.nii.gz',\n",
       " '../Parcellations/harvardOx/harvardox_cortical_38.nii.gz',\n",
       " '../Parcellations/harvardOx/harvardox_subcortical_13.nii.gz',\n",
       " '../Parcellations/harvardOx/harvardox_cortical_16.nii.gz',\n",
       " '../Parcellations/harvardOx/harvardox_cortical_40.nii.gz',\n",
       " '../Parcellations/harvardOx/harvardox_cortical_37.nii.gz',\n",
       " '../Parcellations/harvardOx/harvardox_subcortical_3.nii.gz',\n",
       " '../Parcellations/harvardOx/harvardox_cortical_4.nii.gz',\n",
       " '../Parcellations/harvardOx/harvardox_cortical_21.nii.gz',\n",
       " '../Parcellations/harvardOx/harvardox_cortical_9.nii.gz']"
      ]
     },
     "execution_count": 41,
     "metadata": {},
     "output_type": "execute_result"
    }
   ],
   "source": [
    "maskPaths = glob.glob('../Parcellations/harvardOx/*.nii.gz')\n",
    "\n",
    "masks = ['none'] * len(maskPaths)\n",
    "for counter, maskPath in enumerate(maskPaths):\n",
    "    masks[counter] = image.load_img(maskPath)\n",
    "    masks[counter] = masks[counter].get_fdata()\n",
    "    masks[counter] = masks[counter].flatten()\n",
    "\n",
    "maskPaths"
   ]
  },
  {
   "cell_type": "code",
   "execution_count": 42,
   "metadata": {},
   "outputs": [],
   "source": [
    "def getPpiRoi(subject, roiMask, runType, ppiDir, copeNum, imageType):\n",
    "\n",
    "    # Pull for the emotional face and neutral face cope for each run\n",
    "    statImg = image.load_img('/danl/SB/Investigators/PaulCompileTGNG/data/%s/model/%s/24motion.feat/%s/reg_standard/stats/%s%s.nii.gz'%(subject, runType, ppiDir, imageType, copeNum))\n",
    "    statImg = statImg.get_fdata()\n",
    "    statImg = statImg.flatten()\n",
    "    \n",
    "    # Mask the cope images and filter based on mask == 1, then take means      \n",
    "    maskedStatImg= statImg[roiMask == 1]\n",
    "    meanStatImg = np.mean(maskedStatImg)\n",
    "    \n",
    "    # return value\n",
    "    return(meanStatImg)"
   ]
  },
  {
   "cell_type": "markdown",
   "metadata": {},
   "source": [
    "# Pull HO amyg connectivity with all HO roi -- afni style"
   ]
  },
  {
   "cell_type": "code",
   "execution_count": 50,
   "metadata": {},
   "outputs": [],
   "source": [
    "# data frame of all runs in feat\n",
    "subFrame = pd.read_csv('../QA/allEmotionsFeatComplete.csv')\n",
    "ppiDir = 'gppi_afni_style_seed_harvardoxfordsubcortical_bilateralamyg.feat'\n",
    "\n",
    "subFrame = subFrame[subFrame['runType'] == 'fear'] \n",
    "for index, row in subFrame.iterrows():\n",
    "    for counter, roiMask in enumerate(masks):\n",
    "        maskPath = maskPaths[counter]\n",
    "        #print(maskPath)\n",
    "        maskPathSplit = maskPath.split('/')\n",
    "        roiName = maskPathSplit[3][:-7]\n",
    "        #print(roiName)\n",
    "        if(os.path.isfile('/danl/SB/Investigators/PaulCompileTGNG/data/%s/model/%s/24motion.feat/%s/reg_standard/stats/cope1.nii.gz'%(row['name'], row['runType'], ppiDir))):\n",
    "            subFrame.loc[index, 'phys_%s_tstat'%(roiName)] = getPpiRoi(row['name'],roiMask,row['runType'], ppiDir, 8, 'tstat')\n",
    "            subFrame.loc[index, 'emotPpi_%s_tstat'%(roiName)] = getPpiRoi(row['name'],roiMask,row['runType'], ppiDir, 9, 'tstat')\n",
    "            subFrame.loc[index, 'neutralPpi_%s_tstat'%(roiName)] = getPpiRoi(row['name'],roiMask,row['runType'], ppiDir, 10, 'tstat')\n",
    "            subFrame.loc[index, 'emotMinusNeutralPpi_%s_tstat'%(roiName)] = getPpiRoi(row['name'],roiMask,row['runType'], ppiDir, 11, 'tstat')\n",
    "\n",
    "# to csv\n",
    "subFrame.to_csv('gppi_afni_style_seed_harvardoxfordsubcortical_bilateralamyg_ALL_HO_REGIONS.csv', index = False)\n",
    "subFrame.head()"
   ]
  },
  {
   "cell_type": "markdown",
   "metadata": {},
   "source": [
    "# Pull HO amyg connectivity with all HO roi -- fsl style"
   ]
  },
  {
   "cell_type": "code",
   "execution_count": 51,
   "metadata": {},
   "outputs": [],
   "source": [
    "# data frame of all runs in feat\n",
    "subFrame = pd.read_csv('../QA/allEmotionsFeatComplete.csv')\n",
    "ppiDir = 'gppi_fsl_style_seed_harvardoxfordsubcortical_bilateralamyg.feat'\n",
    "\n",
    "subFrame = subFrame[subFrame['runType'] == 'fear'] \n",
    "for index, row in subFrame.iterrows():\n",
    "    for counter, roiMask in enumerate(masks):\n",
    "        maskPath = maskPaths[counter]\n",
    "        #print(maskPath)\n",
    "        maskPathSplit = maskPath.split('/')\n",
    "        roiName = maskPathSplit[3][:-7]\n",
    "        #print(roiName)\n",
    "        if(os.path.isfile('/danl/SB/Investigators/PaulCompileTGNG/data/%s/model/%s/24motion.feat/%s/reg_standard/stats/cope1.nii.gz'%(row['name'], row['runType'], ppiDir))):\n",
    "            subFrame.loc[index, 'phys_%s_tstat'%(roiName)] = getPpiRoi(row['name'],roiMask,row['runType'], ppiDir, 8, 'tstat')\n",
    "            subFrame.loc[index, 'emotPpi_%s_tstat'%(roiName)] = getPpiRoi(row['name'],roiMask,row['runType'], ppiDir, 9, 'tstat')\n",
    "            subFrame.loc[index, 'neutralPpi_%s_tstat'%(roiName)] = getPpiRoi(row['name'],roiMask,row['runType'], ppiDir, 10, 'tstat')\n",
    "            subFrame.loc[index, 'emotMinusNeutralPpi_%s_tstat'%(roiName)] = getPpiRoi(row['name'],roiMask,row['runType'], ppiDir, 11, 'tstat')\n",
    "\n",
    "# to csv\n",
    "subFrame.to_csv('gppi_fsl_style_seed_harvardoxfordsubcortical_bilateralamyg_ALL_HO_REGIONS.csv', index = False)\n",
    "subFrame.head()"
   ]
  }
 ],
 "metadata": {
  "kernelspec": {
   "display_name": "Python 3",
   "language": "python",
   "name": "python3"
  },
  "language_info": {
   "codemirror_mode": {
    "name": "ipython",
    "version": 3
   },
   "file_extension": ".py",
   "mimetype": "text/x-python",
   "name": "python",
   "nbconvert_exporter": "python",
   "pygments_lexer": "ipython3",
   "version": "3.7.4"
  }
 },
 "nbformat": 4,
 "nbformat_minor": 4
}
