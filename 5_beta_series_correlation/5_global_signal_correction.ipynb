{
 "cells": [
  {
   "source": [
    "# Apply global signal correction\n",
    "\n",
    "Here, global signal correction is applied via [post-hoc mean centering](https://www.ncbi.nlm.nih.gov/pmc/articles/PMC4074397/) (after GLM)"
   ],
   "cell_type": "markdown",
   "metadata": {}
  },
  {
   "source": [],
   "cell_type": "markdown",
   "metadata": {}
  },
  {
   "cell_type": "code",
   "execution_count": 1,
   "metadata": {},
   "outputs": [],
   "source": [
    "import nilearn\n",
    "from nilearn import image\n",
    "import numpy as np\n",
    "from nilearn import masking\n",
    "import glob"
   ]
  },
  {
   "cell_type": "markdown",
   "metadata": {},
   "source": [
    "# Function for subtracting global signal from one image\n",
    "\n",
    "* Load in beta series image (each of the 24 volumes is the contrast parameter estimate map for a particular trial).\n",
    "* Mask the image to just contain brain voxels\n",
    "* Get the timeseries of the mean signal across the brain for each of the 24 volumes here, then subtract this timeseries from all voxels in each volume\n",
    "* Zero out non-brain voxels and save images out\n"
   ]
  },
  {
   "cell_type": "code",
   "execution_count": 24,
   "metadata": {},
   "outputs": [],
   "source": [
    "def subtractGlobalSignal(maskFile, imgFile):\n",
    "    name = imgFile.split('/')[1]\n",
    "    # load in 4D image image and 3d smask\n",
    "    img = image.load_img(imgFile)\n",
    "    mask = image.load_img(maskFile)\n",
    "    \n",
    "    # mask the 4d image\n",
    "    sigMask = nilearn.masking.apply_mask(img, mask)\n",
    "    \n",
    "    # Get mean timeseries --- should be 24 elements\n",
    "    meanTS = np.mean(sigMask, axis = 1)\n",
    "    \n",
    "    # subtract out the mean timeseries\n",
    "    signal= img.get_data()\n",
    "    maskOnes = mask.get_data()\n",
    "    subTract = signal - meanTS\n",
    "    \n",
    "    # zero out other voxels\n",
    "    a = np.transpose(subTract[maskOnes == 1])\n",
    "    unmaskedImg = nilearn.masking.unmask(a, mask)\n",
    "    unmaskedImg.to_filename('betaSeriesCopesGlobalSignalSubtract/' + name)"
   ]
  },
  {
   "cell_type": "markdown",
   "metadata": {},
   "source": [
    "# Do this for all beta series cope images"
   ]
  },
  {
   "cell_type": "code",
   "execution_count": 8,
   "metadata": {},
   "outputs": [],
   "source": [
    "images = glob.glob('betaSeriesCopesReg/*')"
   ]
  },
  {
   "cell_type": "code",
   "execution_count": 5,
   "metadata": {},
   "outputs": [],
   "source": [
    "for cope in list(images):\n",
    "    subtractGlobalSignal(maskFile = '../Structural/mni_2mm_brain_mask.nii.gz', imgFile = cope)"
   ]
  }
 ],
 "metadata": {
  "kernelspec": {
   "display_name": "Python 3",
   "language": "python",
   "name": "python3"
  },
  "language_info": {
   "codemirror_mode": {
    "name": "ipython",
    "version": 3
   },
   "file_extension": ".py",
   "mimetype": "text/x-python",
   "name": "python",
   "nbconvert_exporter": "python",
   "pygments_lexer": "ipython3",
   "version": "3.7.4"
  }
 },
 "nbformat": 4,
 "nbformat_minor": 2
}